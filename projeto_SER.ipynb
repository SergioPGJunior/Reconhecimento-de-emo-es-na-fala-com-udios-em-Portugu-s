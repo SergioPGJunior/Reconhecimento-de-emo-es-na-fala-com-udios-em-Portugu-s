{
  "nbformat": 4,
  "nbformat_minor": 0,
  "metadata": {
    "colab": {
      "name": "projeto_SER.ipynb",
      "provenance": [],
      "collapsed_sections": [],
      "mount_file_id": "1_s7cdwmMgexrUIhGowZHE3IeCnIXFMTu",
      "authorship_tag": "ABX9TyNglxeMsKdbEEeGF2mZcjMY",
      "include_colab_link": true
    },
    "kernelspec": {
      "name": "python3",
      "display_name": "Python 3"
    }
  },
  "cells": [
    {
      "cell_type": "markdown",
      "metadata": {
        "id": "view-in-github",
        "colab_type": "text"
      },
      "source": [
        "<a href=\"https://colab.research.google.com/github/SergioPGJunior/Reconhecimento-de-emocoes-na-fala-com-audios-em-Portugues/blob/main/projeto_SER.ipynb\" target=\"_parent\"><img src=\"https://colab.research.google.com/assets/colab-badge.svg\" alt=\"Open In Colab\"/></a>"
      ]
    },
    {
      "cell_type": "code",
      "metadata": {
        "id": "DSZjtj19o1Ql"
      },
      "source": [
        "# Executa o upgrade da versão da biblioteca librosa no Colab\r\n",
        "! pip install --upgrade librosa"
      ],
      "execution_count": null,
      "outputs": []
    },
    {
      "cell_type": "code",
      "metadata": {
        "id": "9nv3TaswA7A_"
      },
      "source": [
        "#import de todas as bibliotecas e funções utilizadas no projeto\n",
        "import librosa\n",
        "import numpy as np\n",
        "import pandas as pd\n",
        "from sklearn import feature_extraction, linear_model, model_selection, preprocessing, svm, metrics\n",
        "from matplotlib import pyplot as plt\n",
        "from sklearn.ensemble import RandomForestClassifier\n",
        "from sklearn.preprocessing import StandardScaler\n",
        "from sklearn.decomposition import PCA\n",
        "from sklearn.model_selection import train_test_split\n",
        "from sklearn.model_selection import StratifiedShuffleSplit\n",
        "from sklearn.model_selection import GridSearchCV\n",
        "import os"
      ],
      "execution_count": 12,
      "outputs": []
    },
    {
      "cell_type": "code",
      "metadata": {
        "id": "Wcb9O3QTCRgT"
      },
      "source": [
        "#Cria as funções que executam a extração de parâmetros dos áudios da base\n",
        "\n",
        "def matriz_mfcc(y,fs, n_mfcc=12,delta=False,delta2=False):\n",
        "\n",
        "  mfcc = librosa.feature.mfcc(y, fs, n_mfcc=n_mfcc)\n",
        "  \n",
        "  if delta == True & delta2 == True:\n",
        "    mfcc_delta = librosa.feature.delta(mfcc)\n",
        "    mfcc_delta2 = librosa.feature.delta(mfcc,order=2)\n",
        "    parametros = np.concatenate((mfcc, mfcc_delta,mfcc_delta2))\n",
        "    \n",
        "  elif delta == True:\n",
        "    mfcc_delta = librosa.feature.delta(mfcc)\n",
        "    parametros = np.concatenate((mfcc, mfcc_delta))\n",
        "\n",
        "  elif delta2 == True:\n",
        "    mfcc_delta2 = librosa.feature.delta(mfcc,order=2)\n",
        "    parametros = np.concatenate((mfcc, mfcc_delta2))\n",
        "\n",
        "  else:\n",
        "    parametros = mfcc\n",
        "\n",
        "  return parametros.tolist()\n",
        "\n",
        "def parametros_globais(vetor_parametros):\n",
        "\n",
        "  media = np.mean(vetor_parametros,axis=1).transpose()\n",
        "  mediana = np.median(vetor_parametros,axis=1).transpose()\n",
        "  maximo = np.amax(vetor_parametros,axis=1).transpose()\n",
        "  minimo = np.amin(vetor_parametros,axis=1).transpose()\n",
        "  std = np.std(vetor_parametros,axis=1).transpose()\n",
        "\n",
        "  return np.concatenate((media, mediana, maximo, minimo, std)).tolist()"
      ],
      "execution_count": 6,
      "outputs": []
    },
    {
      "cell_type": "code",
      "metadata": {
        "id": "VZW0SuJW_jIC"
      },
      "source": [
        "''' Extração de parâmetros '''\n",
        "\n",
        "#Executa a extração de parâmetros e salva os dados em um Dataframe\n",
        "path = \"/content/drive/MyDrive/Banco de Dados/\"\n",
        "actors = ['Clara', 'Getúlio', 'Marcos', 'Mauro', 'Nívea', 'Patricia', 'Renato', 'Stella']\n",
        "emotions = ['Felicidade', 'Neutra', 'Raiva', 'Tristeza']\n",
        "\n",
        "columns= ['actor','emotion','filename','parametros']\n",
        "df = pd.DataFrame(columns = columns)\n",
        "\n",
        "for actor in actors:\n",
        "  for emotion in emotions: \n",
        "    files = os.scandir(path + actor + '/' + emotion)\n",
        "    for file in files:\n",
        "      try:\n",
        "        y, fs = librosa.load(file)\n",
        "        # yt, index = librosa.effects.trim(y, top_db=38)\n",
        "        mfcc = matriz_mfcc(y,fs,20,delta=False,delta2=False)\n",
        "        # mfcc = matriz_mfcc(yt,fs,20,delta=True,delta2=False)\n",
        "        parametros = parametros_globais(mfcc)\n",
        "        values = [actor, emotion, file, parametros]\n",
        "        df = df.append(dict(zip(columns, values)),True)\n",
        "      except:\n",
        "        print('O arquivo {}, do ator {}, com a emoção {} não pode ser lido'.format(file,actor,emotion))\n",
        "      \n",
        "#Gera a coluna alvo\n",
        "df['target'] = 0\n",
        "df.loc[df['emotion'] =='Neutra','target'] = 1\n",
        "df.loc[df['emotion']=='Raiva','target'] = 2\n",
        "df.loc[df['emotion']=='Tristeza','target'] = 3\n"
      ],
      "execution_count": null,
      "outputs": []
    },
    {
      "cell_type": "code",
      "metadata": {
        "id": "tpit8LFhq2k3",
        "colab": {
          "base_uri": "https://localhost:8080/"
        },
        "outputId": "6780d812-bc8c-4dc8-c904-8164656051d6"
      },
      "source": [
        "''' Tratamento dos dados '''\r\n",
        "\r\n",
        "#Extrai a matriz com os dados de entrada para os classificadores\r\n",
        "X = np.array(df['parametros'].tolist())\r\n",
        "\r\n",
        "#Executa o escalonamento dos dados\r\n",
        "scaler = StandardScaler()\r\n",
        "scaler.fit(X)\r\n",
        "X = scaler.transform(X)\r\n",
        "\r\n",
        "#Análise dos componentes principais\r\n",
        "pca = PCA(n_components=40) #O valor de 40 componentes foi alcançado após testes\r\n",
        "pca.fit(X)\r\n",
        "\r\n",
        "X = pca.transform(X)\r\n",
        "\r\n",
        "ratio = pca.explained_variance_ratio_\r\n",
        "\r\n",
        "print('Variância explicada: ',sum(ratio))"
      ],
      "execution_count": 9,
      "outputs": [
        {
          "output_type": "stream",
          "text": [
            "Variância explicada:  0.9473478844766023\n"
          ],
          "name": "stdout"
        }
      ]
    },
    {
      "cell_type": "code",
      "metadata": {
        "colab": {
          "base_uri": "https://localhost:8080/"
        },
        "id": "VaNSsFPoXnN8",
        "outputId": "bcf6e457-4282-430c-fe46-882d0c80147d"
      },
      "source": [
        "''' SVM '''\r\n",
        "\r\n",
        "#Busca em grade para identificar os melhores valores para os parâmetros C e gamma\r\n",
        "X_train, X_test, y_train, y_test = train_test_split(X, df['target'],\r\n",
        "                                                    test_size=0.3)\r\n",
        "\r\n",
        "C_range = np.logspace(-2, 10, 13)\r\n",
        "gamma_range = np.logspace(-9, 3, 13)\r\n",
        "param_grid = dict(gamma=gamma_range, C=C_range)\r\n",
        "cv = StratifiedShuffleSplit(n_splits=5, test_size=0.2, random_state=42)\r\n",
        "grid = GridSearchCV(svm.SVC(kernel='rbf'), param_grid=param_grid, cv=cv)\r\n",
        "grid.fit(X_train, y_train)\r\n",
        "\r\n",
        "\r\n",
        "print(\"Os melhores parâmetros são %s com um score de %0.2f\"\r\n",
        "      % (grid.best_params_, grid.best_score_))"
      ],
      "execution_count": 10,
      "outputs": [
        {
          "output_type": "stream",
          "text": [
            "Os melhores parâmetros são {'C': 10.0, 'gamma': 0.01} com um score de 0.90\n"
          ],
          "name": "stdout"
        }
      ]
    },
    {
      "cell_type": "code",
      "metadata": {
        "colab": {
          "base_uri": "https://localhost:8080/",
          "height": 296
        },
        "id": "eU5GJka5sy1E",
        "outputId": "fbd22fda-896b-4475-aedf-d9c5b9a2966b"
      },
      "source": [
        "#Etapa de teste com SVM\r\n",
        "predicted = grid.predict(X_test)\r\n",
        "print('Acurácia de teste: ',metrics.accuracy_score(y_test, predicted))\r\n",
        "\r\n",
        "class_names = ['Felicidade','Neutra', 'Raiva', 'Tristeza']\r\n",
        "\r\n",
        "metrics.plot_confusion_matrix(grid, X_test, y_test,display_labels=class_names,\r\n",
        "                                 cmap=plt.cm.Blues)\r\n",
        "plt.show()"
      ],
      "execution_count": 14,
      "outputs": [
        {
          "output_type": "stream",
          "text": [
            "Acurácia de teste:  0.9122807017543859\n"
          ],
          "name": "stdout"
        },
        {
          "output_type": "display_data",
          "data": {
            "image/png": "[encoded data removed]",
            "text/plain": [
              "<Figure size 432x288 with 2 Axes>"
            ]
          },
          "metadata": {
            "tags": [],
            "needs_background": "light"
          }
        }
      ]
    },
    {
      "cell_type": "code",
      "metadata": {
        "colab": {
          "base_uri": "https://localhost:8080/"
        },
        "id": "Q8LiLo3vft6y",
        "outputId": "d286fd28-eff1-4c4a-f8a9-585a365d3000"
      },
      "source": [
        "''' Random Forest '''\r\n",
        "\r\n",
        "#Busca em grade para identificar os melhores valores para os parâmetros max_depth\r\n",
        "#e n_estimators\r\n",
        "\r\n",
        "depth_range = range(5,31,5)\r\n",
        "n_estimators_range = range(10, 101, 10)\r\n",
        "param_grid = dict(max_depth=depth_range, n_estimators=n_estimators_range)\r\n",
        "cv = StratifiedShuffleSplit(n_splits=5, test_size=0.2, random_state=42)\r\n",
        "grid = GridSearchCV(RandomForestClassifier(), param_grid=param_grid, cv=cv)\r\n",
        "grid.fit(X_train, y_train)\r\n",
        "\r\n",
        "\r\n",
        "print(\"Os melhores parâmetros são %s com um score de %0.2f\"\r\n",
        "      % (grid.best_params_, grid.best_score_))"
      ],
      "execution_count": 15,
      "outputs": [
        {
          "output_type": "stream",
          "text": [
            "Os melhores parâmetros são {'max_depth': 10, 'n_estimators': 90} com um score de 0.84\n"
          ],
          "name": "stdout"
        }
      ]
    },
    {
      "cell_type": "code",
      "metadata": {
        "colab": {
          "base_uri": "https://localhost:8080/",
          "height": 296
        },
        "id": "aTeQP1LxrUPk",
        "outputId": "591b5040-6e1c-4845-afc3-0074b4ef0546"
      },
      "source": [
        "#Etapa de teste com Random Forest\r\n",
        "\r\n",
        "predicted = grid.predict(X_test)\r\n",
        "print('Acurácia de teste: ',metrics.accuracy_score(y_test, predicted))\r\n",
        "\r\n",
        "class_names = ['Felicidade','Neutra', 'Raiva', 'Tristeza']\r\n",
        "\r\n",
        "metrics.plot_confusion_matrix(grid, X_test, y_test,display_labels=class_names,\r\n",
        "                                 cmap=plt.cm.Blues)\r\n",
        "plt.show()"
      ],
      "execution_count": 18,
      "outputs": [
        {
          "output_type": "stream",
          "text": [
            "Acurácia de teste:  0.7807017543859649\n"
          ],
          "name": "stdout"
        },
        {
          "output_type": "display_data",
          "data": {
            "image/png": "[encoded data removed]",
            "text/plain": [
              "<Figure size 432x288 with 2 Axes>"
            ]
          },
          "metadata": {
            "tags": [],
            "needs_background": "light"
          }
        }
      ]
    }
  ]
}